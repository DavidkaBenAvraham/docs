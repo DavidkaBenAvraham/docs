{
 "cells": [
  {
   "cell_type": "markdown",
   "id": "9e035009-0191-41ff-9cfb-1f3963228b24",
   "metadata": {},
   "source": [
    "# Драйвер"
   ]
  },
  {
   "cell_type": "code",
   "execution_count": 2,
   "metadata": {},
   "outputs": [
    {
     "data": {
      "text/html": [
       "<a href=\"driver.ipynb\" target=\"_blank\"><a href=\"driver.ipynb\" target=\"_blank\"><i><b>Драйвер (Driver)</b></i></a></a>"
      ],
      "text/plain": [
       "<IPython.core.display.HTML object>"
      ]
     },
     "metadata": {},
     "output_type": "display_data"
    },
    {
     "data": {
      "text/html": [
       "<a href=\"supplier.ipynb\" target=\"_blank\"><a href=\"supplier.ipynb\" target=\"_blank\"><b>Поставщик (Supplier)</b> - <i><font size=\"small\">supplier.ipnb</font></i></a></a>"
      ],
      "text/plain": [
       "<IPython.core.display.HTML object>"
      ]
     },
     "metadata": {},
     "output_type": "display_data"
    },
    {
     "data": {
      "text/html": [
       "<a href=\"product.ipynb\" target=\"_blank\"><a href=\"product.ipynb\" target=\"_blank\"><i><b>Товар (Product)</b></i></a></a>"
      ],
      "text/plain": [
       "<IPython.core.display.HTML object>"
      ]
     },
     "metadata": {},
     "output_type": "display_data"
    },
    {
     "data": {
      "text/html": [
       "<a href=\"scenario.ipynb\" target=\"_blank\"><a href=\"scenario.ipynb\" target=\"_blank\"><i><b>Сценарий (scenario)</b></i>/<a></a>"
      ],
      "text/plain": [
       "<IPython.core.display.HTML object>"
      ]
     },
     "metadata": {},
     "output_type": "display_data"
    },
    {
     "data": {
      "text/html": [
       "<a href=\"webdriver_firefox.ipynb\" target=\"_blank\"><a href=\"webdriver_firefox.ipynb\" target=\"_blank\"><i><b>Драйвер Firefox (Firefox)</b></i></a><a href=\"{notebook_path_driver_firefox}\" target=\"_blank\"><i><b>Профиль пользователя Firefox (Profile)</b></a></ul></a>"
      ],
      "text/plain": [
       "<IPython.core.display.HTML object>"
      ]
     },
     "metadata": {},
     "output_type": "display_data"
    }
   ],
   "source": [
    "from intro import toc, import_markdown_file\n",
    "toc('driver')"
   ]
  },
  {
   "cell_type": "markdown",
   "id": "0f56c554-37f3-4052-920b-c68c8ff235c8",
   "metadata": {},
   "source": [
    "У каждого браузера есть свой драйвер. в качестве дефолтного я использую geckodriver.exe, который запускет браузер Mozilla"
   ]
  },
  {
   "cell_type": "markdown",
   "id": "afa6d52a-31e7-41c8-aff8-ebc99782dc10",
   "metadata": {},
   "source": [
    "!type untitled.md"
   ]
  },
  {
   "cell_type": "code",
   "execution_count": 1,
   "id": "17d8fb0d-bfb7-48bb-b54d-a261f3cd0756",
   "metadata": {},
   "outputs": [
    {
     "name": "stderr",
     "output_type": "stream",
     "text": [
      "'cat' is not recognized as an internal or external command,\n",
      "operable program or batch file.\n"
     ]
    }
   ],
   "source": [
    "!cat untitled.md"
   ]
  },
  {
   "cell_type": "code",
   "execution_count": null,
   "id": "88e41fe1-5f5f-4e90-a47a-64243ebe237a",
   "metadata": {},
   "outputs": [],
   "source": []
  }
 ],
 "metadata": {
  "kernelspec": {
   "display_name": "Python 3 (ipykernel)",
   "language": "python",
   "name": "python3"
  },
  "language_info": {
   "codemirror_mode": {
    "name": "ipython",
    "version": 3
   },
   "file_extension": ".py",
   "mimetype": "text/x-python",
   "name": "python",
   "nbconvert_exporter": "python",
   "pygments_lexer": "ipython3",
   "version": "3.11.5"
  }
 },
 "nbformat": 4,
 "nbformat_minor": 5
}
