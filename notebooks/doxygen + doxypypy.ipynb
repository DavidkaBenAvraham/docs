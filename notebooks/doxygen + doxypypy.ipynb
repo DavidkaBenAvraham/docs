{
 "cells": [
  {
   "cell_type": "markdown",
   "id": "bac118ec",
   "metadata": {},
   "source": [
    "https://github.com/Feneric/doxypypy"
   ]
  },
  {
   "cell_type": "markdown",
   "id": "634f41e1",
   "metadata": {},
   "source": [
    "https://github.com/svenevs/exhale/blob/master/docs/mastering_doxygen.rst"
   ]
  },
  {
   "cell_type": "markdown",
   "id": "a6cdebc8",
   "metadata": {},
   "source": [
    "https://www.graphviz.org/documentation/"
   ]
  },
  {
   "cell_type": "markdown",
   "id": "9f54d3e3",
   "metadata": {},
   "source": [
    "https://boschglobal.github.io/doxysphinx/docs/linking_to_doxygen.html"
   ]
  },
  {
   "cell_type": "markdown",
   "id": "c61bcad0",
   "metadata": {},
   "source": [
    "https://github.com/Iziram/autodoxygen/blob/master/vsc-extension-quickstart.md\n"
   ]
  },
  {
   "cell_type": "markdown",
   "metadata": {},
   "source": [
    "https://github.com/jothepro/doxygen-awesome-css\n"
   ]
  },
  {
   "cell_type": "markdown",
   "metadata": {},
   "source": []
  }
 ],
 "metadata": {
  "kernelspec": {
   "display_name": "Python 3 (ipykernel)",
   "language": "python",
   "name": "python3"
  },
  "language_info": {
   "codemirror_mode": {
    "name": "ipython",
    "version": 3
   },
   "file_extension": ".py",
   "mimetype": "text/x-python",
   "name": "python",
   "nbconvert_exporter": "python",
   "pygments_lexer": "ipython3",
   "version": "3.11.5"
  }
 },
 "nbformat": 4,
 "nbformat_minor": 5
}
