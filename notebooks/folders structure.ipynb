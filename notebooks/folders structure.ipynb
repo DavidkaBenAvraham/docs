{
 "cells": [
  {
   "cell_type": "markdown",
   "id": "7c1824de",
   "metadata": {},
   "source": [
    "<div style=\"margin-left: 20px\">\n",
    "    \n",
    "|  hypotez  |                                                                        |\n",
    "|:---------|:-----------------------------------------------------------------------|\n",
    "| bin      |  Бинарные файлы: geckodriver.exe, wget.exe и утилиты (keypass, doxygen)                           \n",
    "| doc      |  Докуметация и исходные файлы для документации (doxygen, shpinx)\n",
    "| export   |  Результат выполнения кода в табличных форматах\n",
    "| log      |  Файлы логов из разных источников\n",
    "| src      |  Исходные файлы кода\n",
    "| venv     |  Виртуальная среда выполнения\n",
    "\n",
    "</div>"
   ]
  },
  {
   "cell_type": "markdown",
   "id": "e65b75f3",
   "metadata": {},
   "source": [
    "<iframe src='http://localhost:8888/tree/docs/doxygen/_build/html/files.html'>\n",
    "    \n",
    "    </iframe>\n",
    "<a href='http://localhost:8888/tree/docs/doxygen/_build/html/files.html'>Files</a>"
   ]
  },
  {
   "cell_type": "code",
   "execution_count": null,
   "id": "2efe9fb4",
   "metadata": {},
   "outputs": [],
   "source": []
  }
 ],
 "metadata": {
  "kernelspec": {
   "display_name": "Python 3 (ipykernel)",
   "language": "python",
   "name": "python3"
  },
  "language_info": {
   "codemirror_mode": {
    "name": "ipython",
    "version": 3
   },
   "file_extension": ".py",
   "mimetype": "text/x-python",
   "name": "python",
   "nbconvert_exporter": "python",
   "pygments_lexer": "ipython3",
   "version": "3.11.5"
  }
 },
 "nbformat": 4,
 "nbformat_minor": 5
}
