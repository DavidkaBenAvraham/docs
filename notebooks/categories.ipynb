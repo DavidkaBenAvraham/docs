{
 "cells": [
  {
   "cell_type": "markdown",
   "id": "1f84d3b4-e56d-4d3b-9bfb-e7beadb61d32",
   "metadata": {},
   "source": [
    "Категории. Назначение и использование. \n",
    "\n",
    "Каждому полученному от поставщика товару я я должен назначить релевантную категорию.\n",
    "\n",
    "Категории - это дерево у которого в каждом узле находится элемент содержащий название категории и ее id "
   ]
  },
  {
   "cell_type": "code",
   "execution_count": null,
   "id": "b0f02146-9be0-4499-a8f9-1970cd6ceaee",
   "metadata": {},
   "outputs": [],
   "source": []
  }
 ],
 "metadata": {
  "kernelspec": {
   "display_name": "Python 3 (ipykernel)",
   "language": "python",
   "name": "python3"
  },
  "language_info": {
   "codemirror_mode": {
    "name": "ipython",
    "version": 3
   },
   "file_extension": ".py",
   "mimetype": "text/x-python",
   "name": "python",
   "nbconvert_exporter": "python",
   "pygments_lexer": "ipython3",
   "version": "3.11.4"
  }
 },
 "nbformat": 4,
 "nbformat_minor": 5
}
